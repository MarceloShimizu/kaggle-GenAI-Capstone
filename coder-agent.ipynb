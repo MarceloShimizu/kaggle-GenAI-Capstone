{
 "cells": [
  {
   "cell_type": "markdown",
   "id": "3b4bd947",
   "metadata": {},
   "source": [
    "# 🧠 Building a Coder Agent with Gemini: Streamlit Homepage Generator"
   ]
  },
  {
   "cell_type": "markdown",
   "id": "b8dbb428",
   "metadata": {},
   "source": [
    "### 📌 Introduction\n",
    "\n",
    "In this notebook, we develop a Coder Agent that leverages Google's Gemini API to generate Python code for Streamlit-based homepages. By providing a textual description of the desired homepage, the agent returns corresponding Streamlit code, enabling rapid prototyping of web applications."
   ]
  },
  {
   "cell_type": "markdown",
   "id": "bc1b92b4",
   "metadata": {},
   "source": [
    "### 🔧 Setup"
   ]
  },
  {
   "cell_type": "markdown",
   "id": "0165b586",
   "metadata": {},
   "source": [
    "#### 1. Uninstall Conflicting Packages\n",
    "To ensure compatibility, we first remove any conflicting packages from the Kaggle environment:"
   ]
  },
  {
   "cell_type": "code",
   "execution_count": 1,
   "id": "0d7ec975",
   "metadata": {},
   "outputs": [],
   "source": [
    "!pip uninstall -qqy jupyterlab google-genai"
   ]
  },
  {
   "cell_type": "markdown",
   "id": "7d9dd17c",
   "metadata": {},
   "source": [
    "#### 2. Install Required Package\n",
    "We install the specific version of google-genai required for this project:"
   ]
  },
  {
   "cell_type": "code",
   "execution_count": 2,
   "id": "3a7e21d0",
   "metadata": {},
   "outputs": [],
   "source": [
    "!pip install -U -q \"google-genai==1.10.0\""
   ]
  },
  {
   "cell_type": "markdown",
   "id": "517dafdd",
   "metadata": {},
   "source": [
    "#### 3. Import Libraries and Configure API\n",
    "We import necessary libraries and configure the Gemini client using the API key stored securely in Kaggle Secrets:"
   ]
  },
  {
   "cell_type": "code",
   "execution_count": 3,
   "id": "938e802f",
   "metadata": {},
   "outputs": [
    {
     "ename": "ModuleNotFoundError",
     "evalue": "No module named 'kaggle_secrets'",
     "output_type": "error",
     "traceback": [
      "\u001b[1;31m---------------------------------------------------------------------------\u001b[0m",
      "\u001b[1;31mModuleNotFoundError\u001b[0m                       Traceback (most recent call last)",
      "Cell \u001b[1;32mIn[3], line 1\u001b[0m\n\u001b[1;32m----> 1\u001b[0m \u001b[38;5;28;01mfrom\u001b[39;00m\u001b[38;5;250m \u001b[39m\u001b[38;5;21;01mkaggle_secrets\u001b[39;00m\u001b[38;5;250m \u001b[39m\u001b[38;5;28;01mimport\u001b[39;00m UserSecretsClient\n\u001b[0;32m      2\u001b[0m \u001b[38;5;28;01mfrom\u001b[39;00m\u001b[38;5;250m \u001b[39m\u001b[38;5;21;01mgoogle\u001b[39;00m\u001b[38;5;250m \u001b[39m\u001b[38;5;28;01mimport\u001b[39;00m genai\n\u001b[0;32m      3\u001b[0m \u001b[38;5;28;01mfrom\u001b[39;00m\u001b[38;5;250m \u001b[39m\u001b[38;5;21;01mgoogle\u001b[39;00m\u001b[38;5;21;01m.\u001b[39;00m\u001b[38;5;21;01mgenai\u001b[39;00m\u001b[38;5;250m \u001b[39m\u001b[38;5;28;01mimport\u001b[39;00m types\n",
      "\u001b[1;31mModuleNotFoundError\u001b[0m: No module named 'kaggle_secrets'"
     ]
    }
   ],
   "source": [
    "from kaggle_secrets import UserSecretsClient\n",
    "from google import genai\n",
    "from google.genai import types\n",
    "\n",
    "# Retrieve API key from Kaggle Secrets\n",
    "GOOGLE_API_KEY = UserSecretsClient().get_secret(\"GOOGLE_API_KEY\")\n",
    "\n",
    "# Initialize the Gemini client\n",
    "client = genai.Client(api_key=GOOGLE_API_KEY)"
   ]
  },
  {
   "cell_type": "markdown",
   "id": "9bc5fb37",
   "metadata": {},
   "source": [
    "### 🤖 Define the Coder Agent Function\n",
    "The coder_agent function takes a user-provided description and generates corresponding Streamlit code:"
   ]
  },
  {
   "cell_type": "code",
   "execution_count": null,
   "id": "3eebd1b5",
   "metadata": {},
   "outputs": [],
   "source": [
    "def coder_agent(user_input):\n",
    "    prompt = (\n",
    "        f\"Generate a Streamlit app in Python that creates a homepage based on the following description:\\n\"\n",
    "        f\"{user_input}\\n\\n\"\n",
    "        \"The app should include appropriate Streamlit widgets and layout elements to match the described features.\"\n",
    "    )\n",
    "\n",
    "    # Generate content using the Gemini model\n",
    "    response = client.models.generate_content(\n",
    "        model=\"gemini-2.0-flash-001\",\n",
    "        contents=prompt\n",
    "    )\n",
    "    return response.text"
   ]
  },
  {
   "cell_type": "markdown",
   "id": "96d2224f",
   "metadata": {},
   "source": [
    "### 🧪 Test the Coder Agent\n",
    "We test the coder_agent function with various prompts to generate different homepage templates:"
   ]
  },
  {
   "cell_type": "code",
   "execution_count": null,
   "id": "85eebd7e",
   "metadata": {},
   "outputs": [],
   "source": [
    "test_prompts = [\n",
    "    \"A personal portfolio homepage with sections for projects, skills, and a downloadable resume.\"\n",
    "    #\"A homepage for a café that displays today's menu, includes a contact form, and shows the café's location on a map.\"\n",
    "    #\"A landing page for a tech conference with event schedule, speaker bios, and registration form.\"\n",
    "]\n",
    "\n",
    "for prompt in test_prompts:\n",
    "    result = coder_agent(prompt)\n",
    "    print(f\"🔎 Prompt: {prompt}\\n💬 Generated Code:\\n{result}\\n{'-'*50}\")"
   ]
  },
  {
   "cell_type": "markdown",
   "id": "3350e7b5",
   "metadata": {},
   "source": [
    "### ✅ Gen AI Capabilities Demonstrated\n",
    "This notebook showcases the following Generative AI capabilities:\n",
    "1. Agents: Interprets user intent and generates appropriate code.\n",
    "2. Function Calling: Simulates different functionalities like code generation based on user input.\n",
    "3. Structured Output: Returns consistent and structured Streamlit code."
   ]
  },
  {
   "cell_type": "markdown",
   "id": "84fa0e8f",
   "metadata": {},
   "source": [
    "### 📌 Conclusion\n",
    "We've successfully built a Coder Agent that generates Streamlit-based homepage templates using the Gemini API. This tool can expedite the development process by providing boilerplate code tailored to specific requirements. Future enhancements could include:\n",
    "\n",
    "- Incorporating user feedback to refine generated code.\n",
    "- Expanding functionality to support additional frameworks or libraries.\n",
    "- Integrating with a frontend interface for real-time code generation.\n",
    "\n",
    "Feel free to experiment with different prompts to explore the capabilities of the Coder Agent!"
   ]
  }
 ],
 "metadata": {
  "kernelspec": {
   "display_name": "Python 3",
   "language": "python",
   "name": "python3"
  },
  "language_info": {
   "codemirror_mode": {
    "name": "ipython",
    "version": 3
   },
   "file_extension": ".py",
   "mimetype": "text/x-python",
   "name": "python",
   "nbconvert_exporter": "python",
   "pygments_lexer": "ipython3",
   "version": "3.13.1"
  }
 },
 "nbformat": 4,
 "nbformat_minor": 5
}
